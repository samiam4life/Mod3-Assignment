{
 "cells": [
  {
   "cell_type": "code",
   "execution_count": 1,
   "id": "1c4ef6c2",
   "metadata": {},
   "outputs": [
    {
     "name": "stdout",
     "output_type": "stream",
     "text": [
      "Original List\n",
      "['mozzarella', 'cinderella ', 'salmonella']\n",
      "List with Capitalized Name\n",
      "['mozzarella', 'Cinderella ', 'salmonella']\n",
      "List with cheese item uppercase\n",
      "['MOZZARELLA', 'Cinderella ', 'salmonella']\n",
      "List with disease removed\n",
      "['MOZZARELLA', 'Cinderella ']\n",
      "List with new element\n",
      "['MOZZARELLA', 'Cinderella ', 'Noble Prize']\n"
     ]
    }
   ],
   "source": [
    "#Original List\n",
    "thing=[\"mozzarella\", \"cinderella \", \"salmonella\"]\n",
    "print(\"Original List\")\n",
    "print(thing)\n",
    "\n",
    "#Capitalized Name\n",
    "thing[1]=thing[1].capitalize()\n",
    "print(\"List with Capitalized Name\")\n",
    "print(thing)\n",
    "\n",
    "#Uppercase cheese item\n",
    "thing[0]=thing[0].upper()\n",
    "print(\"List with cheese item uppercase\")\n",
    "print(thing)\n",
    "\n",
    "#Removing Disease from list\n",
    "thing.remove(thing[2])\n",
    "print(\"List with disease removed\")\n",
    "print(thing)\n",
    "\n",
    "#Collecting Nobel Prize\n",
    "thing.append(\"Noble Prize\")\n",
    "print(\"List with new element\")\n",
    "print(thing)"
   ]
  },
  {
   "cell_type": "code",
   "execution_count": null,
   "id": "c0cf412a",
   "metadata": {},
   "outputs": [],
   "source": []
  }
 ],
 "metadata": {
  "kernelspec": {
   "display_name": "Python 3 (ipykernel)",
   "language": "python",
   "name": "python3"
  },
  "language_info": {
   "codemirror_mode": {
    "name": "ipython",
    "version": 3
   },
   "file_extension": ".py",
   "mimetype": "text/x-python",
   "name": "python",
   "nbconvert_exporter": "python",
   "pygments_lexer": "ipython3",
   "version": "3.11.5"
  }
 },
 "nbformat": 4,
 "nbformat_minor": 5
}
